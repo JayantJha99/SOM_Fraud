{
  "metadata": {
    "kernelspec": {
      "language": "python",
      "display_name": "Python 3",
      "name": "python3"
    },
    "language_info": {
      "name": "python",
      "version": "3.10.13",
      "mimetype": "text/x-python",
      "codemirror_mode": {
        "name": "ipython",
        "version": 3
      },
      "pygments_lexer": "ipython3",
      "nbconvert_exporter": "python",
      "file_extension": ".py"
    },
    "kaggle": {
      "accelerator": "none",
      "dataSources": [
        {
          "sourceId": 8260898,
          "sourceType": "datasetVersion",
          "datasetId": 4903088
        },
        {
          "sourceId": 8264256,
          "sourceType": "datasetVersion",
          "datasetId": 4905633
        }
      ],
      "dockerImageVersionId": 30698,
      "isInternetEnabled": false,
      "language": "python",
      "sourceType": "notebook",
      "isGpuEnabled": false
    },
    "colab": {
      "provenance": []
    }
  },
  "nbformat_minor": 0,
  "nbformat": 4,
  "cells": [
    {
      "source": [
        "\n",
        "# IMPORTANT: RUN THIS CELL IN ORDER TO IMPORT YOUR KAGGLE DATA SOURCES\n",
        "# TO THE CORRECT LOCATION (/kaggle/input) IN YOUR NOTEBOOK,\n",
        "# THEN FEEL FREE TO DELETE THIS CELL.\n",
        "# NOTE: THIS NOTEBOOK ENVIRONMENT DIFFERS FROM KAGGLE'S PYTHON\n",
        "# ENVIRONMENT SO THERE MAY BE MISSING LIBRARIES USED BY YOUR\n",
        "# NOTEBOOK.\n",
        "\n",
        "import os\n",
        "import sys\n",
        "from tempfile import NamedTemporaryFile\n",
        "from urllib.request import urlopen\n",
        "from urllib.parse import unquote, urlparse\n",
        "from urllib.error import HTTPError\n",
        "from zipfile import ZipFile\n",
        "import tarfile\n",
        "import shutil\n",
        "\n",
        "CHUNK_SIZE = 40960\n",
        "DATA_SOURCE_MAPPING = 'minisom:https%3A%2F%2Fstorage.googleapis.com%2Fkaggle-data-sets%2F4903088%2F8260898%2Fbundle%2Farchive.zip%3FX-Goog-Algorithm%3DGOOG4-RSA-SHA256%26X-Goog-Credential%3Dgcp-kaggle-com%2540kaggle-161607.iam.gserviceaccount.com%252F20240502%252Fauto%252Fstorage%252Fgoog4_request%26X-Goog-Date%3D20240502T192206Z%26X-Goog-Expires%3D259200%26X-Goog-SignedHeaders%3Dhost%26X-Goog-Signature%3D15c09c8ab7227aaaf3ef217358ee158b2d6f560a8ad69c2a6c1ffed9d952ec741cd1e6b65bdc293d1417ecc4a91243273f4357b1aab5529d47098440248455651a31d877c59f02535cef12a8e8360a4364bd77c420f7ebd0ae06d3f499c2e2d20a72b7e1ec129a7136f982327c3fa8390ea3859e298721d413b6ee11be51434bea2a02466a0cd16857a301584f7cd31156d88b8c59151b3f90f94902f5d1f805220c266f67e06180373c72a6d0821ae28df8a2ea1db3eaca181355467075eebf6d15c9d407c799e43ffe9afbfaf1841d566d167709e810e3516fe858e53ae50e62d81f1cd1966d2096565aa4a255be5ac2adc18a8c9652c134e4ca50f11739fd,from-lectures:https%3A%2F%2Fstorage.googleapis.com%2Fkaggle-data-sets%2F4905633%2F8264256%2Fbundle%2Farchive.zip%3FX-Goog-Algorithm%3DGOOG4-RSA-SHA256%26X-Goog-Credential%3Dgcp-kaggle-com%2540kaggle-161607.iam.gserviceaccount.com%252F20240502%252Fauto%252Fstorage%252Fgoog4_request%26X-Goog-Date%3D20240502T192206Z%26X-Goog-Expires%3D259200%26X-Goog-SignedHeaders%3Dhost%26X-Goog-Signature%3D71ad08135a868c7b254ad86cd74714923a3b2442920d0df926a06ecd0142dad6fa9063c5c896aa37088a3693d5448a92678a31e75bfa34d583682982afebc3fb54ba5e0a6980e38e739dfd3ea43f760f99e81ba254ed81ce8d04ad0eb7c325a4faa139eb5e3826581f30bdbcb73d7c943e144eaac1bb470437b6a92a70fe68a6cf219b5f52e0cf8213e330f11ea38eebefc566f1b4404923ce1f5b154637420d9e2e1cdb14fdaf97af48047cdde8f28ac9b89cf1241f227ef4b5061c994e4d11a048da1bbc6e03946d7d07b1f87cd7df38df95812177bf39297349b6266f7cf95605e4f02aec702ca5329e625d4182a8b63b4e6c21baa31214c411a26ea4edb5'\n",
        "\n",
        "KAGGLE_INPUT_PATH='/kaggle/input'\n",
        "KAGGLE_WORKING_PATH='/kaggle/working'\n",
        "KAGGLE_SYMLINK='kaggle'\n",
        "\n",
        "!umount /kaggle/input/ 2> /dev/null\n",
        "shutil.rmtree('/kaggle/input', ignore_errors=True)\n",
        "os.makedirs(KAGGLE_INPUT_PATH, 0o777, exist_ok=True)\n",
        "os.makedirs(KAGGLE_WORKING_PATH, 0o777, exist_ok=True)\n",
        "\n",
        "try:\n",
        "  os.symlink(KAGGLE_INPUT_PATH, os.path.join(\"..\", 'input'), target_is_directory=True)\n",
        "except FileExistsError:\n",
        "  pass\n",
        "try:\n",
        "  os.symlink(KAGGLE_WORKING_PATH, os.path.join(\"..\", 'working'), target_is_directory=True)\n",
        "except FileExistsError:\n",
        "  pass\n",
        "\n",
        "for data_source_mapping in DATA_SOURCE_MAPPING.split(','):\n",
        "    directory, download_url_encoded = data_source_mapping.split(':')\n",
        "    download_url = unquote(download_url_encoded)\n",
        "    filename = urlparse(download_url).path\n",
        "    destination_path = os.path.join(KAGGLE_INPUT_PATH, directory)\n",
        "    try:\n",
        "        with urlopen(download_url) as fileres, NamedTemporaryFile() as tfile:\n",
        "            total_length = fileres.headers['content-length']\n",
        "            print(f'Downloading {directory}, {total_length} bytes compressed')\n",
        "            dl = 0\n",
        "            data = fileres.read(CHUNK_SIZE)\n",
        "            while len(data) > 0:\n",
        "                dl += len(data)\n",
        "                tfile.write(data)\n",
        "                done = int(50 * dl / int(total_length))\n",
        "                sys.stdout.write(f\"\\r[{'=' * done}{' ' * (50-done)}] {dl} bytes downloaded\")\n",
        "                sys.stdout.flush()\n",
        "                data = fileres.read(CHUNK_SIZE)\n",
        "            if filename.endswith('.zip'):\n",
        "              with ZipFile(tfile) as zfile:\n",
        "                zfile.extractall(destination_path)\n",
        "            else:\n",
        "              with tarfile.open(tfile.name) as tarfile:\n",
        "                tarfile.extractall(destination_path)\n",
        "            print(f'\\nDownloaded and uncompressed: {directory}')\n",
        "    except HTTPError as e:\n",
        "        print(f'Failed to load (likely expired) {download_url} to path {destination_path}')\n",
        "        continue\n",
        "    except OSError as e:\n",
        "        print(f'Failed to load {download_url} to path {destination_path}')\n",
        "        continue\n",
        "\n",
        "print('Data source import complete.')\n"
      ],
      "metadata": {
        "id": "PXLVvqMuwdQN"
      },
      "cell_type": "code",
      "outputs": [],
      "execution_count": null
    },
    {
      "cell_type": "code",
      "source": [],
      "metadata": {
        "id": "YMr8QnBFwdQS"
      },
      "execution_count": null,
      "outputs": []
    },
    {
      "cell_type": "raw",
      "source": [
        "# This Python 3 environment comes with many helpful analytics libraries installed\n",
        "# It is defined by the kaggle/python Docker image: https://github.com/kaggle/docker-python\n",
        "# For example, here's several helpful packages to load\n",
        "\n",
        "import numpy as np # linear algebra\n",
        "import pandas as pd # data processing, CSV file I/O (e.g. pd.read_csv)\n",
        "\n",
        "# Input data files are available in the read-only \"../input/\" directory\n",
        "# For example, running this (by clicking run or pressing Shift+Enter) will list all files under the input directory\n",
        "\n",
        "import os\n",
        "for dirname, _, filenames in os.walk('/kaggle/input'):\n",
        "    for filename in filenames:\n",
        "        print(os.path.join(dirname, filename))\n",
        "\n",
        "# You can write up to 20GB to the current directory (/kaggle/working/) that gets preserved as output when you create a version using \"Save & Run All\"\n",
        "# You can also write temporary files to /kaggle/temp/, but they won't be saved outside of the current session"
      ],
      "metadata": {
        "_uuid": "8f2839f25d086af736a60e9eeb907d3b93b6e0e5",
        "_cell_guid": "b1076dfc-b9ad-4769-8c92-a6c4dae69d19",
        "id": "c_gsdVOIwdQS"
      }
    },
    {
      "cell_type": "code",
      "source": [
        "import numpy as np\n",
        "import matplotlib.pyplot as plt\n",
        "import pandas as pd"
      ],
      "metadata": {
        "execution": {
          "iopub.status.busy": "2024-04-29T18:21:20.879107Z",
          "iopub.execute_input": "2024-04-29T18:21:20.879537Z",
          "iopub.status.idle": "2024-04-29T18:21:20.884862Z",
          "shell.execute_reply.started": "2024-04-29T18:21:20.879502Z",
          "shell.execute_reply": "2024-04-29T18:21:20.883764Z"
        },
        "trusted": true,
        "id": "dFUTbRKBwdQT"
      },
      "execution_count": null,
      "outputs": []
    },
    {
      "cell_type": "code",
      "source": [
        "#Importing the dataset\n",
        "dataset=pd.read_csv('/kaggle/input/from-lectures/Credit_Card_Applications.csv')"
      ],
      "metadata": {
        "execution": {
          "iopub.status.busy": "2024-04-29T18:21:21.578099Z",
          "iopub.execute_input": "2024-04-29T18:21:21.57851Z",
          "iopub.status.idle": "2024-04-29T18:21:21.591114Z",
          "shell.execute_reply.started": "2024-04-29T18:21:21.578481Z",
          "shell.execute_reply": "2024-04-29T18:21:21.58962Z"
        },
        "trusted": true,
        "id": "Z4HkUqD9wdQT"
      },
      "execution_count": null,
      "outputs": []
    },
    {
      "cell_type": "code",
      "source": [
        "dataset"
      ],
      "metadata": {
        "execution": {
          "iopub.status.busy": "2024-04-29T18:21:21.890947Z",
          "iopub.execute_input": "2024-04-29T18:21:21.891839Z",
          "iopub.status.idle": "2024-04-29T18:21:21.916185Z",
          "shell.execute_reply.started": "2024-04-29T18:21:21.891796Z",
          "shell.execute_reply": "2024-04-29T18:21:21.914989Z"
        },
        "trusted": true,
        "id": "2eKbfEs8wdQU",
        "outputId": "1da4a024-a40f-4971-af31-ebc91d3eb2de"
      },
      "execution_count": null,
      "outputs": [
        {
          "execution_count": 22,
          "output_type": "execute_result",
          "data": {
            "text/plain": "     CustomerID  A1     A2      A3  A4  A5  A6     A7  A8  A9  A10  A11  A12  \\\n0      15776156   1  22.08  11.460   2   4   4  1.585   0   0    0    1    2   \n1      15739548   0  22.67   7.000   2   8   4  0.165   0   0    0    0    2   \n2      15662854   0  29.58   1.750   1   4   4  1.250   0   0    0    1    2   \n3      15687688   0  21.67  11.500   1   5   3  0.000   1   1   11    1    2   \n4      15715750   1  20.17   8.170   2   6   4  1.960   1   1   14    0    2   \n..          ...  ..    ...     ...  ..  ..  ..    ...  ..  ..  ...  ...  ...   \n685    15808223   1  31.57  10.500   2  14   4  6.500   1   0    0    0    2   \n686    15769980   1  20.67   0.415   2   8   4  0.125   0   0    0    0    2   \n687    15675450   0  18.83   9.540   2   6   4  0.085   1   0    0    0    2   \n688    15776494   0  27.42  14.500   2  14   8  3.085   1   1    1    0    2   \n689    15592412   1  41.00   0.040   2  10   4  0.040   0   1    1    0    1   \n\n     A13   A14  Class  \n0    100  1213      0  \n1    160     1      0  \n2    280     1      0  \n3      0     1      1  \n4     60   159      1  \n..   ...   ...    ...  \n685    0     1      1  \n686    0    45      0  \n687  100     1      1  \n688  120    12      1  \n689  560     1      1  \n\n[690 rows x 16 columns]",
            "text/html": "<div>\n<style scoped>\n    .dataframe tbody tr th:only-of-type {\n        vertical-align: middle;\n    }\n\n    .dataframe tbody tr th {\n        vertical-align: top;\n    }\n\n    .dataframe thead th {\n        text-align: right;\n    }\n</style>\n<table border=\"1\" class=\"dataframe\">\n  <thead>\n    <tr style=\"text-align: right;\">\n      <th></th>\n      <th>CustomerID</th>\n      <th>A1</th>\n      <th>A2</th>\n      <th>A3</th>\n      <th>A4</th>\n      <th>A5</th>\n      <th>A6</th>\n      <th>A7</th>\n      <th>A8</th>\n      <th>A9</th>\n      <th>A10</th>\n      <th>A11</th>\n      <th>A12</th>\n      <th>A13</th>\n      <th>A14</th>\n      <th>Class</th>\n    </tr>\n  </thead>\n  <tbody>\n    <tr>\n      <th>0</th>\n      <td>15776156</td>\n      <td>1</td>\n      <td>22.08</td>\n      <td>11.460</td>\n      <td>2</td>\n      <td>4</td>\n      <td>4</td>\n      <td>1.585</td>\n      <td>0</td>\n      <td>0</td>\n      <td>0</td>\n      <td>1</td>\n      <td>2</td>\n      <td>100</td>\n      <td>1213</td>\n      <td>0</td>\n    </tr>\n    <tr>\n      <th>1</th>\n      <td>15739548</td>\n      <td>0</td>\n      <td>22.67</td>\n      <td>7.000</td>\n      <td>2</td>\n      <td>8</td>\n      <td>4</td>\n      <td>0.165</td>\n      <td>0</td>\n      <td>0</td>\n      <td>0</td>\n      <td>0</td>\n      <td>2</td>\n      <td>160</td>\n      <td>1</td>\n      <td>0</td>\n    </tr>\n    <tr>\n      <th>2</th>\n      <td>15662854</td>\n      <td>0</td>\n      <td>29.58</td>\n      <td>1.750</td>\n      <td>1</td>\n      <td>4</td>\n      <td>4</td>\n      <td>1.250</td>\n      <td>0</td>\n      <td>0</td>\n      <td>0</td>\n      <td>1</td>\n      <td>2</td>\n      <td>280</td>\n      <td>1</td>\n      <td>0</td>\n    </tr>\n    <tr>\n      <th>3</th>\n      <td>15687688</td>\n      <td>0</td>\n      <td>21.67</td>\n      <td>11.500</td>\n      <td>1</td>\n      <td>5</td>\n      <td>3</td>\n      <td>0.000</td>\n      <td>1</td>\n      <td>1</td>\n      <td>11</td>\n      <td>1</td>\n      <td>2</td>\n      <td>0</td>\n      <td>1</td>\n      <td>1</td>\n    </tr>\n    <tr>\n      <th>4</th>\n      <td>15715750</td>\n      <td>1</td>\n      <td>20.17</td>\n      <td>8.170</td>\n      <td>2</td>\n      <td>6</td>\n      <td>4</td>\n      <td>1.960</td>\n      <td>1</td>\n      <td>1</td>\n      <td>14</td>\n      <td>0</td>\n      <td>2</td>\n      <td>60</td>\n      <td>159</td>\n      <td>1</td>\n    </tr>\n    <tr>\n      <th>...</th>\n      <td>...</td>\n      <td>...</td>\n      <td>...</td>\n      <td>...</td>\n      <td>...</td>\n      <td>...</td>\n      <td>...</td>\n      <td>...</td>\n      <td>...</td>\n      <td>...</td>\n      <td>...</td>\n      <td>...</td>\n      <td>...</td>\n      <td>...</td>\n      <td>...</td>\n      <td>...</td>\n    </tr>\n    <tr>\n      <th>685</th>\n      <td>15808223</td>\n      <td>1</td>\n      <td>31.57</td>\n      <td>10.500</td>\n      <td>2</td>\n      <td>14</td>\n      <td>4</td>\n      <td>6.500</td>\n      <td>1</td>\n      <td>0</td>\n      <td>0</td>\n      <td>0</td>\n      <td>2</td>\n      <td>0</td>\n      <td>1</td>\n      <td>1</td>\n    </tr>\n    <tr>\n      <th>686</th>\n      <td>15769980</td>\n      <td>1</td>\n      <td>20.67</td>\n      <td>0.415</td>\n      <td>2</td>\n      <td>8</td>\n      <td>4</td>\n      <td>0.125</td>\n      <td>0</td>\n      <td>0</td>\n      <td>0</td>\n      <td>0</td>\n      <td>2</td>\n      <td>0</td>\n      <td>45</td>\n      <td>0</td>\n    </tr>\n    <tr>\n      <th>687</th>\n      <td>15675450</td>\n      <td>0</td>\n      <td>18.83</td>\n      <td>9.540</td>\n      <td>2</td>\n      <td>6</td>\n      <td>4</td>\n      <td>0.085</td>\n      <td>1</td>\n      <td>0</td>\n      <td>0</td>\n      <td>0</td>\n      <td>2</td>\n      <td>100</td>\n      <td>1</td>\n      <td>1</td>\n    </tr>\n    <tr>\n      <th>688</th>\n      <td>15776494</td>\n      <td>0</td>\n      <td>27.42</td>\n      <td>14.500</td>\n      <td>2</td>\n      <td>14</td>\n      <td>8</td>\n      <td>3.085</td>\n      <td>1</td>\n      <td>1</td>\n      <td>1</td>\n      <td>0</td>\n      <td>2</td>\n      <td>120</td>\n      <td>12</td>\n      <td>1</td>\n    </tr>\n    <tr>\n      <th>689</th>\n      <td>15592412</td>\n      <td>1</td>\n      <td>41.00</td>\n      <td>0.040</td>\n      <td>2</td>\n      <td>10</td>\n      <td>4</td>\n      <td>0.040</td>\n      <td>0</td>\n      <td>1</td>\n      <td>1</td>\n      <td>0</td>\n      <td>1</td>\n      <td>560</td>\n      <td>1</td>\n      <td>1</td>\n    </tr>\n  </tbody>\n</table>\n<p>690 rows × 16 columns</p>\n</div>"
          },
          "metadata": {}
        }
      ]
    },
    {
      "cell_type": "code",
      "source": [
        "# Below, we don't make `y` to store result variables, its just to show, which customer got credit\n",
        "# card approved and which didn't.\n",
        "# Basically, there are no dependent variables in unsupervised learning and we are just going to use the\n",
        "# X-Variable in the code.\n",
        "\n",
        "X=dataset.iloc[:,:-1].values\n",
        "y=dataset.iloc[:,-1].values"
      ],
      "metadata": {
        "execution": {
          "iopub.status.busy": "2024-04-29T18:21:22.203722Z",
          "iopub.execute_input": "2024-04-29T18:21:22.204187Z",
          "iopub.status.idle": "2024-04-29T18:21:22.210796Z",
          "shell.execute_reply.started": "2024-04-29T18:21:22.204155Z",
          "shell.execute_reply": "2024-04-29T18:21:22.209631Z"
        },
        "trusted": true,
        "id": "ZORxPO_vwdQV"
      },
      "execution_count": null,
      "outputs": []
    },
    {
      "cell_type": "code",
      "source": [
        "#Feature Scaling\n",
        "from sklearn.preprocessing import MinMaxScaler\n",
        "sc= MinMaxScaler(feature_range=(0,1))\n",
        "X=sc.fit_transform(X)\n"
      ],
      "metadata": {
        "execution": {
          "iopub.status.busy": "2024-04-29T18:21:22.466168Z",
          "iopub.execute_input": "2024-04-29T18:21:22.466637Z",
          "iopub.status.idle": "2024-04-29T18:21:22.473414Z",
          "shell.execute_reply.started": "2024-04-29T18:21:22.466585Z",
          "shell.execute_reply": "2024-04-29T18:21:22.472174Z"
        },
        "trusted": true,
        "id": "Cd7XgKLrwdQV"
      },
      "execution_count": null,
      "outputs": []
    },
    {
      "cell_type": "code",
      "source": [
        "X"
      ],
      "metadata": {
        "execution": {
          "iopub.status.busy": "2024-04-29T18:21:22.958516Z",
          "iopub.execute_input": "2024-04-29T18:21:22.958968Z",
          "iopub.status.idle": "2024-04-29T18:21:22.96806Z",
          "shell.execute_reply.started": "2024-04-29T18:21:22.958936Z",
          "shell.execute_reply": "2024-04-29T18:21:22.96658Z"
        },
        "trusted": true,
        "id": "njwxqQGywdQV",
        "outputId": "093fb971-800d-473c-ec57-2e7bb63701fb"
      },
      "execution_count": null,
      "outputs": [
        {
          "execution_count": 25,
          "output_type": "execute_result",
          "data": {
            "text/plain": "array([[8.42681467e-01, 1.00000000e+00, 1.25263158e-01, ...,\n        5.00000000e-01, 5.00000000e-02, 1.21200000e-02],\n       [6.96090562e-01, 0.00000000e+00, 1.34135338e-01, ...,\n        5.00000000e-01, 8.00000000e-02, 0.00000000e+00],\n       [3.88981656e-01, 0.00000000e+00, 2.38045113e-01, ...,\n        5.00000000e-01, 1.40000000e-01, 0.00000000e+00],\n       ...,\n       [4.39420332e-01, 0.00000000e+00, 7.63909774e-02, ...,\n        5.00000000e-01, 5.00000000e-02, 0.00000000e+00],\n       [8.44034934e-01, 0.00000000e+00, 2.05563910e-01, ...,\n        5.00000000e-01, 6.00000000e-02, 1.10000000e-04],\n       [1.06907888e-01, 1.00000000e+00, 4.09774436e-01, ...,\n        0.00000000e+00, 2.80000000e-01, 0.00000000e+00]])"
          },
          "metadata": {}
        }
      ]
    },
    {
      "cell_type": "code",
      "source": [
        "import sys\n",
        "sys.path.append('/kaggle/input/minisom/')\n",
        "\n",
        "from minisom import MiniSom"
      ],
      "metadata": {
        "execution": {
          "iopub.status.busy": "2024-04-29T18:21:23.336166Z",
          "iopub.execute_input": "2024-04-29T18:21:23.337039Z",
          "iopub.status.idle": "2024-04-29T18:21:23.342577Z",
          "shell.execute_reply.started": "2024-04-29T18:21:23.336985Z",
          "shell.execute_reply": "2024-04-29T18:21:23.340966Z"
        },
        "trusted": true,
        "id": "_YwUD2-QwdQW"
      },
      "execution_count": null,
      "outputs": []
    },
    {
      "cell_type": "code",
      "source": [
        "#x,y= depends on size of data set.\n",
        "#input_len= no. of features in ('X'), we could have removed customer id, but we need it for customer\n",
        "#identification.\n",
        "#sigma is radius of different neighborhoods in the grid\n",
        "#learning_rate=hyper-parameter that decides by how much the weights are updated duing each iteration,\n",
        "#So the faster the convergence, lower will be the learning rate.\n",
        "#decay func parameter= to improve the convergence., but we are going to use None and not use a decay.\n",
        "#we dont need a random seed as well.\n",
        "som=MiniSom(x=10,y=10,input_len=15,sigma=1.0,learning_rate=0.5)\n"
      ],
      "metadata": {
        "execution": {
          "iopub.status.busy": "2024-04-29T18:21:23.953293Z",
          "iopub.execute_input": "2024-04-29T18:21:23.954208Z",
          "iopub.status.idle": "2024-04-29T18:21:23.962691Z",
          "shell.execute_reply.started": "2024-04-29T18:21:23.954167Z",
          "shell.execute_reply": "2024-04-29T18:21:23.96125Z"
        },
        "trusted": true,
        "id": "S-VFZ-wawdQW"
      },
      "execution_count": null,
      "outputs": []
    },
    {
      "cell_type": "code",
      "source": [
        "som.random_weights_init(X)\n",
        "som.train_random(data=X,num_iteration=100)"
      ],
      "metadata": {
        "execution": {
          "iopub.status.busy": "2024-04-29T18:21:24.483309Z",
          "iopub.execute_input": "2024-04-29T18:21:24.483718Z",
          "iopub.status.idle": "2024-04-29T18:21:24.503531Z",
          "shell.execute_reply.started": "2024-04-29T18:21:24.483689Z",
          "shell.execute_reply": "2024-04-29T18:21:24.50251Z"
        },
        "trusted": true,
        "id": "7L47OCZLwdQX"
      },
      "execution_count": null,
      "outputs": []
    },
    {
      "cell_type": "code",
      "source": [
        "#Visualizing the results\n",
        "#Drawing mean inter-neuron distances to detect the outliers\n",
        "\n",
        "from pylab import bone,pcolor,colorbar,plot,show\n",
        "bone()\n",
        "pcolor(som.distance_map().T)\n",
        "colorbar() #Range values of MID, mean interneuron distances\n",
        "markers=['o','s']\n",
        "colors=['r','g']\n",
        "for i,x in enumerate(X):\n",
        "    w= som.winner(x)\n",
        "    plot(w[0]+0.5,\n",
        "        w[1]+0.5,\n",
        "        markers[y[i]],\n",
        "        markeredgecolor=colors[y[i]],\n",
        "        markerfacecolor='None',\n",
        "        markersize=10,\n",
        "        markeredgewidth=2)\n",
        "show()\n",
        "    #W[0],w[1] is at the bottom left, by adding.5 we got it to the centre\n",
        "#Red circles- Customers who didn't get approval.\n",
        "#Green circles- Customers who got approval."
      ],
      "metadata": {
        "execution": {
          "iopub.status.busy": "2024-04-29T18:21:24.957855Z",
          "iopub.execute_input": "2024-04-29T18:21:24.958851Z",
          "iopub.status.idle": "2024-04-29T18:21:26.14527Z",
          "shell.execute_reply.started": "2024-04-29T18:21:24.958813Z",
          "shell.execute_reply": "2024-04-29T18:21:26.144031Z"
        },
        "trusted": true,
        "id": "5iTj6z41wdQX",
        "outputId": "eca15ae4-8940-4bf7-fa64-88bf42ae5f53"
      },
      "execution_count": null,
      "outputs": [
        {
          "output_type": "display_data",
          "data": {
            "text/plain": "<Figure size 640x480 with 2 Axes>",
            "image/png": "[encoded data removed]"
          },
          "metadata": {}
        }
      ]
    },
    {
      "cell_type": "code",
      "source": [
        "# remember frauds are detected by outlying winning nodes, that are far from the general rules\n",
        "# White represents mean interneuron distances with large values, and therefore outliers, hence\n",
        "# frauds."
      ],
      "metadata": {
        "execution": {
          "iopub.status.busy": "2024-04-29T18:21:26.147254Z",
          "iopub.execute_input": "2024-04-29T18:21:26.147644Z",
          "iopub.status.idle": "2024-04-29T18:21:26.154267Z",
          "shell.execute_reply.started": "2024-04-29T18:21:26.147612Z",
          "shell.execute_reply": "2024-04-29T18:21:26.153083Z"
        },
        "trusted": true,
        "id": "XLDk7cQDwdQY"
      },
      "execution_count": null,
      "outputs": []
    },
    {
      "cell_type": "code",
      "source": [
        "mappings=som.win_map(X)"
      ],
      "metadata": {
        "execution": {
          "iopub.status.busy": "2024-04-29T18:21:28.080299Z",
          "iopub.execute_input": "2024-04-29T18:21:28.080703Z",
          "iopub.status.idle": "2024-04-29T18:21:28.113551Z",
          "shell.execute_reply.started": "2024-04-29T18:21:28.080672Z",
          "shell.execute_reply": "2024-04-29T18:21:28.112503Z"
        },
        "trusted": true,
        "id": "YbNFa53qwdQY"
      },
      "execution_count": null,
      "outputs": []
    },
    {
      "cell_type": "code",
      "source": [
        "mappings[0,0]"
      ],
      "metadata": {
        "execution": {
          "iopub.status.busy": "2024-04-29T18:21:28.63285Z",
          "iopub.execute_input": "2024-04-29T18:21:28.633277Z",
          "iopub.status.idle": "2024-04-29T18:21:28.641275Z",
          "shell.execute_reply.started": "2024-04-29T18:21:28.633243Z",
          "shell.execute_reply": "2024-04-29T18:21:28.640021Z"
        },
        "trusted": true,
        "id": "YFOJZ8CqwdQY",
        "outputId": "00d98f8a-231e-4048-acc0-87d360b6c323"
      },
      "execution_count": null,
      "outputs": [
        {
          "execution_count": 32,
          "output_type": "execute_result",
          "data": {
            "text/plain": "[array([0.50624076, 1.        , 0.52631579, 0.94053571, 0.        ,\n        0.        , 0.        , 0.        , 1.        , 0.        ,\n        0.        , 1.        , 0.5       , 0.        , 0.        ]),\n array([0.44526266, 1.        , 0.89729323, 0.63392857, 0.5       ,\n        0.        , 0.        , 0.        , 1.        , 0.        ,\n        0.        , 1.        , 0.5       , 0.        , 0.        ])]"
          },
          "metadata": {}
        }
      ]
    },
    {
      "cell_type": "code",
      "source": [
        "#mapping stores a list of customers for given index(i,j)"
      ],
      "metadata": {
        "execution": {
          "iopub.status.busy": "2024-04-29T18:21:29.455658Z",
          "iopub.execute_input": "2024-04-29T18:21:29.456104Z",
          "iopub.status.idle": "2024-04-29T18:21:29.461324Z",
          "shell.execute_reply.started": "2024-04-29T18:21:29.456071Z",
          "shell.execute_reply": "2024-04-29T18:21:29.460076Z"
        },
        "trusted": true,
        "id": "LjeWbTH4wdQY"
      },
      "execution_count": null,
      "outputs": []
    },
    {
      "cell_type": "code",
      "source": [
        "frauds = np.concatenate((mappings[(8,5)],mappings[(6,7)]),axis=0)"
      ],
      "metadata": {
        "execution": {
          "iopub.status.busy": "2024-04-29T18:22:05.497302Z",
          "iopub.execute_input": "2024-04-29T18:22:05.498095Z",
          "iopub.status.idle": "2024-04-29T18:22:05.503643Z",
          "shell.execute_reply.started": "2024-04-29T18:22:05.498053Z",
          "shell.execute_reply": "2024-04-29T18:22:05.502302Z"
        },
        "trusted": true,
        "id": "q2vM38ZqwdQY"
      },
      "execution_count": null,
      "outputs": []
    },
    {
      "cell_type": "code",
      "source": [
        "frauds= sc.inverse_transform(frauds)\n",
        "#frauds was normalized, so we denormalize it."
      ],
      "metadata": {
        "execution": {
          "iopub.status.busy": "2024-04-29T18:22:06.465566Z",
          "iopub.execute_input": "2024-04-29T18:22:06.46598Z",
          "iopub.status.idle": "2024-04-29T18:22:06.471481Z",
          "shell.execute_reply.started": "2024-04-29T18:22:06.46595Z",
          "shell.execute_reply": "2024-04-29T18:22:06.470248Z"
        },
        "trusted": true,
        "id": "UDEKJ30wwdQZ"
      },
      "execution_count": null,
      "outputs": []
    },
    {
      "cell_type": "raw",
      "source": [
        "frauds"
      ],
      "metadata": {
        "id": "zjF0cfZ-wdQZ"
      }
    },
    {
      "cell_type": "code",
      "source": [
        "customers= dataset.iloc[:,1:].values"
      ],
      "metadata": {
        "execution": {
          "iopub.status.busy": "2024-04-29T18:22:07.98316Z",
          "iopub.execute_input": "2024-04-29T18:22:07.984375Z",
          "iopub.status.idle": "2024-04-29T18:22:07.990242Z",
          "shell.execute_reply.started": "2024-04-29T18:22:07.984331Z",
          "shell.execute_reply": "2024-04-29T18:22:07.988945Z"
        },
        "trusted": true,
        "id": "t3n3jrkzwdQZ"
      },
      "execution_count": null,
      "outputs": []
    },
    {
      "cell_type": "code",
      "source": [
        "is_fraud=np.zeros(len(dataset))\n",
        "for i in range(len(dataset)):\n",
        "    if dataset.iloc[i,0] in frauds:\n",
        "        is_fraud[i]=1"
      ],
      "metadata": {
        "execution": {
          "iopub.status.busy": "2024-04-29T18:22:08.988414Z",
          "iopub.execute_input": "2024-04-29T18:22:08.988833Z",
          "iopub.status.idle": "2024-04-29T18:22:09.03019Z",
          "shell.execute_reply.started": "2024-04-29T18:22:08.9888Z",
          "shell.execute_reply": "2024-04-29T18:22:09.028828Z"
        },
        "trusted": true,
        "id": "u855S8TxwdQZ"
      },
      "execution_count": null,
      "outputs": []
    },
    {
      "cell_type": "code",
      "source": [
        "#Feature Scaling\n",
        "from sklearn.preprocessing import StandardScaler\n",
        "sc= StandardScaler()\n",
        "customers= sc.fit_transform(customers)\n",
        "\n",
        "from keras.models import Sequential\n",
        "from keras.layers import Dense\n",
        "\n",
        "classifier= Sequential()\n",
        "\n",
        "classifier.add(Dense(units=2,kernel_initializer='uniform',activation='relu',input_dim=15))\n",
        "classifier.add(Dense(units=1,kernel_initializer='uniform',activation='sigmoid'))\n",
        "classifier.compile(optimizer='adam',loss='binary_crossentropy',metrics=['accuracy'])\n",
        "\n",
        "classifier.fit(customers,is_fraud,batch_size=1,epochs=2)\n",
        "\n",
        "# y_pred=classifier.predict()\n"
      ],
      "metadata": {
        "execution": {
          "iopub.status.busy": "2024-04-29T18:22:09.849655Z",
          "iopub.execute_input": "2024-04-29T18:22:09.850124Z",
          "iopub.status.idle": "2024-04-29T18:22:12.424573Z",
          "shell.execute_reply.started": "2024-04-29T18:22:09.850087Z",
          "shell.execute_reply": "2024-04-29T18:22:12.423451Z"
        },
        "trusted": true,
        "id": "yy0EkxfjwdQZ",
        "outputId": "acb4c35e-a79c-4a4d-fd84-8adfe61266a8"
      },
      "execution_count": null,
      "outputs": [
        {
          "name": "stdout",
          "text": "Epoch 1/2\n",
          "output_type": "stream"
        },
        {
          "name": "stderr",
          "text": "/opt/conda/lib/python3.10/site-packages/keras/src/layers/core/dense.py:86: UserWarning: Do not pass an `input_shape`/`input_dim` argument to a layer. When using Sequential models, prefer using an `Input(shape)` object as the first layer in the model instead.\n  super().__init__(activity_regularizer=activity_regularizer, **kwargs)\n",
          "output_type": "stream"
        },
        {
          "name": "stdout",
          "text": "\u001b[1m690/690\u001b[0m \u001b[32m━━━━━━━━━━━━━━━━━━━━\u001b[0m\u001b[37m\u001b[0m \u001b[1m2s\u001b[0m 1ms/step - accuracy: 0.9789 - loss: 0.5855\nEpoch 2/2\n\u001b[1m690/690\u001b[0m \u001b[32m━━━━━━━━━━━━━━━━━━━━\u001b[0m\u001b[37m\u001b[0m \u001b[1m1s\u001b[0m 1ms/step - accuracy: 0.9896 - loss: 0.1488\n",
          "output_type": "stream"
        },
        {
          "execution_count": 40,
          "output_type": "execute_result",
          "data": {
            "text/plain": "<keras.src.callbacks.history.History at 0x787d0b3a3010>"
          },
          "metadata": {}
        }
      ]
    },
    {
      "cell_type": "code",
      "source": [
        "y_pred=classifier.predict(customers)"
      ],
      "metadata": {
        "execution": {
          "iopub.status.busy": "2024-04-29T18:43:48.427948Z",
          "iopub.execute_input": "2024-04-29T18:43:48.428416Z",
          "iopub.status.idle": "2024-04-29T18:43:48.544719Z",
          "shell.execute_reply.started": "2024-04-29T18:43:48.428377Z",
          "shell.execute_reply": "2024-04-29T18:43:48.543222Z"
        },
        "trusted": true,
        "id": "blPx5Wj3wdQZ",
        "outputId": "42d8b364-37bb-4170-c2df-3c6157cf9c5f"
      },
      "execution_count": null,
      "outputs": [
        {
          "name": "stdout",
          "text": "\u001b[1m22/22\u001b[0m \u001b[32m━━━━━━━━━━━━━━━━━━━━\u001b[0m\u001b[37m\u001b[0m \u001b[1m0s\u001b[0m 1ms/step \n",
          "output_type": "stream"
        }
      ]
    },
    {
      "cell_type": "code",
      "source": [
        "len(y_pred)"
      ],
      "metadata": {
        "execution": {
          "iopub.status.busy": "2024-04-29T18:43:50.340544Z",
          "iopub.execute_input": "2024-04-29T18:43:50.340974Z",
          "iopub.status.idle": "2024-04-29T18:43:50.348422Z",
          "shell.execute_reply.started": "2024-04-29T18:43:50.34094Z",
          "shell.execute_reply": "2024-04-29T18:43:50.34707Z"
        },
        "trusted": true,
        "id": "j8WyFlwYwdQa",
        "outputId": "58ad2d8a-9684-44ab-ea49-eec647f8b02a"
      },
      "execution_count": null,
      "outputs": [
        {
          "execution_count": 69,
          "output_type": "execute_result",
          "data": {
            "text/plain": "690"
          },
          "metadata": {}
        }
      ]
    },
    {
      "cell_type": "code",
      "source": [
        "#We want a 2-D array of 1st col:customer ids, 2nd col: predicted probabilities\n",
        "#Since dataset is a 2-D array so to just take the 1st col. from it we use: (dataset.iloc[:,0:1])\n",
        "y_pred= np.concatenate((dataset.iloc[:,0:1].values,y_pred),axis=1)\n"
      ],
      "metadata": {
        "execution": {
          "iopub.status.busy": "2024-04-29T18:43:51.361688Z",
          "iopub.execute_input": "2024-04-29T18:43:51.362206Z",
          "iopub.status.idle": "2024-04-29T18:43:51.369502Z",
          "shell.execute_reply.started": "2024-04-29T18:43:51.362164Z",
          "shell.execute_reply": "2024-04-29T18:43:51.367952Z"
        },
        "trusted": true,
        "id": "xzk6j9YrwdQa"
      },
      "execution_count": null,
      "outputs": []
    },
    {
      "cell_type": "code",
      "source": [
        "y_pred"
      ],
      "metadata": {
        "execution": {
          "iopub.status.busy": "2024-04-29T18:43:53.243885Z",
          "iopub.execute_input": "2024-04-29T18:43:53.244331Z",
          "iopub.status.idle": "2024-04-29T18:43:53.252643Z",
          "shell.execute_reply.started": "2024-04-29T18:43:53.244291Z",
          "shell.execute_reply": "2024-04-29T18:43:53.251194Z"
        },
        "trusted": true,
        "id": "xPcWh7EjwdQa",
        "outputId": "da861a77-fd79-41eb-e4ef-b3ddeb62ed3a"
      },
      "execution_count": null,
      "outputs": [
        {
          "execution_count": 71,
          "output_type": "execute_result",
          "data": {
            "text/plain": "array([[1.57761560e+07, 4.89961356e-02],\n       [1.57395480e+07, 5.09028062e-02],\n       [1.56628540e+07, 4.22351472e-02],\n       ...,\n       [1.56754500e+07, 3.96724455e-02],\n       [1.57764940e+07, 3.02732345e-02],\n       [1.55924120e+07, 4.03142571e-02]])"
          },
          "metadata": {}
        }
      ]
    },
    {
      "cell_type": "code",
      "source": [
        "#Sort customers by probabilites  of their cheating\n",
        "#Trick to sort numpy array by 1 column:\n",
        "\n",
        "y_pred= y_pred[y_pred[:,1].argsort()]\n",
        "\n",
        "#This sorts the numpy array by column 1"
      ],
      "metadata": {
        "execution": {
          "iopub.status.busy": "2024-04-29T18:43:55.376304Z",
          "iopub.execute_input": "2024-04-29T18:43:55.376727Z",
          "iopub.status.idle": "2024-04-29T18:43:55.383504Z",
          "shell.execute_reply.started": "2024-04-29T18:43:55.376694Z",
          "shell.execute_reply": "2024-04-29T18:43:55.382083Z"
        },
        "trusted": true,
        "id": "koZdJnuDwdQa"
      },
      "execution_count": null,
      "outputs": []
    },
    {
      "cell_type": "code",
      "source": [
        "# y_pred = np.delete(y_pred, 0, axis=1)\n",
        "y_pred"
      ],
      "metadata": {
        "execution": {
          "iopub.status.busy": "2024-04-29T18:44:03.230416Z",
          "iopub.execute_input": "2024-04-29T18:44:03.231261Z",
          "iopub.status.idle": "2024-04-29T18:44:03.2382Z",
          "shell.execute_reply.started": "2024-04-29T18:44:03.23122Z",
          "shell.execute_reply": "2024-04-29T18:44:03.237089Z"
        },
        "trusted": true,
        "id": "qO7dSNpOwdQa",
        "outputId": "05b2cd22-01e4-4e0c-ada8-881486f7ee0d"
      },
      "execution_count": null,
      "outputs": [
        {
          "execution_count": 73,
          "output_type": "execute_result",
          "data": {
            "text/plain": "array([[1.57140870e+07, 1.71919633e-02],\n       [1.57162760e+07, 1.86616927e-02],\n       [1.56444460e+07, 1.87888611e-02],\n       ...,\n       [1.57627160e+07, 9.51164067e-02],\n       [1.57365330e+07, 1.03252240e-01],\n       [1.57901130e+07, 1.10111728e-01]])"
          },
          "metadata": {}
        }
      ]
    },
    {
      "cell_type": "code",
      "source": [
        "y_pred_df = pd.DataFrame(y_pred)\n",
        "y_pred_df.to_csv('y_pred.csv', index=False)"
      ],
      "metadata": {
        "execution": {
          "iopub.status.busy": "2024-04-29T18:44:10.65153Z",
          "iopub.execute_input": "2024-04-29T18:44:10.65191Z",
          "iopub.status.idle": "2024-04-29T18:44:10.662385Z",
          "shell.execute_reply.started": "2024-04-29T18:44:10.651881Z",
          "shell.execute_reply": "2024-04-29T18:44:10.661228Z"
        },
        "trusted": true,
        "id": "cdMEDbfGwdQb"
      },
      "execution_count": null,
      "outputs": []
    },
    {
      "cell_type": "code",
      "source": [
        "y_pred_df"
      ],
      "metadata": {
        "execution": {
          "iopub.status.busy": "2024-04-29T18:44:11.899271Z",
          "iopub.execute_input": "2024-04-29T18:44:11.899701Z",
          "iopub.status.idle": "2024-04-29T18:44:11.913879Z",
          "shell.execute_reply.started": "2024-04-29T18:44:11.899669Z",
          "shell.execute_reply": "2024-04-29T18:44:11.91272Z"
        },
        "trusted": true,
        "id": "VH_6SatcwdQb",
        "outputId": "d7ac4de9-11ee-4971-e50f-8bd38db4e7c7"
      },
      "execution_count": null,
      "outputs": [
        {
          "execution_count": 75,
          "output_type": "execute_result",
          "data": {
            "text/plain": "              0         1\n0    15714087.0  0.017192\n1    15716276.0  0.018662\n2    15644446.0  0.018789\n3    15731989.0  0.019000\n4    15730793.0  0.019236\n..          ...       ...\n685  15593694.0  0.082015\n686  15664615.0  0.084562\n687  15762716.0  0.095116\n688  15736533.0  0.103252\n689  15790113.0  0.110112\n\n[690 rows x 2 columns]",
            "text/html": "<div>\n<style scoped>\n    .dataframe tbody tr th:only-of-type {\n        vertical-align: middle;\n    }\n\n    .dataframe tbody tr th {\n        vertical-align: top;\n    }\n\n    .dataframe thead th {\n        text-align: right;\n    }\n</style>\n<table border=\"1\" class=\"dataframe\">\n  <thead>\n    <tr style=\"text-align: right;\">\n      <th></th>\n      <th>0</th>\n      <th>1</th>\n    </tr>\n  </thead>\n  <tbody>\n    <tr>\n      <th>0</th>\n      <td>15714087.0</td>\n      <td>0.017192</td>\n    </tr>\n    <tr>\n      <th>1</th>\n      <td>15716276.0</td>\n      <td>0.018662</td>\n    </tr>\n    <tr>\n      <th>2</th>\n      <td>15644446.0</td>\n      <td>0.018789</td>\n    </tr>\n    <tr>\n      <th>3</th>\n      <td>15731989.0</td>\n      <td>0.019000</td>\n    </tr>\n    <tr>\n      <th>4</th>\n      <td>15730793.0</td>\n      <td>0.019236</td>\n    </tr>\n    <tr>\n      <th>...</th>\n      <td>...</td>\n      <td>...</td>\n    </tr>\n    <tr>\n      <th>685</th>\n      <td>15593694.0</td>\n      <td>0.082015</td>\n    </tr>\n    <tr>\n      <th>686</th>\n      <td>15664615.0</td>\n      <td>0.084562</td>\n    </tr>\n    <tr>\n      <th>687</th>\n      <td>15762716.0</td>\n      <td>0.095116</td>\n    </tr>\n    <tr>\n      <th>688</th>\n      <td>15736533.0</td>\n      <td>0.103252</td>\n    </tr>\n    <tr>\n      <th>689</th>\n      <td>15790113.0</td>\n      <td>0.110112</td>\n    </tr>\n  </tbody>\n</table>\n<p>690 rows × 2 columns</p>\n</div>"
          },
          "metadata": {}
        }
      ]
    },
    {
      "cell_type": "code",
      "source": [],
      "metadata": {
        "id": "Xgmwze6hwdQb"
      },
      "execution_count": null,
      "outputs": []
    }
  ]
}